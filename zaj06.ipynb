{
 "cells": [
  {
   "cell_type": "code",
   "execution_count": null,
   "metadata": {},
   "outputs": [],
   "source": [
    "!apt-get install openjdk-11-jdk-headless -qq > /dev/null\n",
    "!wget -q https://dlcdn.apache.org/spark/spark-3.3.1/spark-3.3.1-bin-hadoop3.tgz"
   ]
  },
  {
   "cell_type": "code",
   "execution_count": null,
   "metadata": {},
   "outputs": [],
   "source": [
    "!pip install -q findspark\n",
    "!pip install pyspark -q"
   ]
  },
  {
   "cell_type": "code",
   "execution_count": null,
   "metadata": {},
   "outputs": [],
   "source": [
    "!tar xf spark-3.3.1-bin-hadoop3.tgz\n",
    "\n",
    "import os\n",
    "os.environ[\"JAVA_HOME\"] = \"/usr/lib/jvm/java-11-openjdk-amd64\"\n",
    "os.environ[\"SPARK_HOME\"] = \"/content/spark-3.3.1-bin-hadoop3\"\n",
    "\n",
    "!pip install -q findspark\n",
    "\n",
    "import findspark\n",
    " \n",
    "findspark.init()    \n",
    "\n",
    "findspark.find()"
   ]
  },
  {
   "cell_type": "code",
   "execution_count": null,
   "metadata": {},
   "outputs": [],
   "source": [
    "from pyspark.sql import SparkSession\n",
    "from pyspark.sql import Row\n",
    "from pyspark.sql import functions as func\n",
    "\n",
    "spark = SparkSession.builder.appName(\"SparkSQL\").getOrCreate()\n",
    "\n",
    "def mapper(line):\n",
    "    fields = line.split(',')\n",
    "    return Row(ID=int(fields[0]), amount=float(fields[2]))\n",
    "\n",
    "lines = spark.sparkContext.textFile(\"customer-orders.csv\")\n",
    "orders = lines.map(mapper)\n",
    "\n",
    "total = orders.reduceByKey(lambda x, y: x + y)\n",
    "flipped = total.map(lambda x: (round(x[1],2), x[0]))\n",
    "\n",
    "totalSorted = flipped.sortByKey()\n",
    "\n",
    "results = totalSorted.collect();\n",
    "for a in results:\n",
    "    print(a)\n",
    "\n",
    "spark.stop()\n"
   ]
  }
 ],
 "metadata": {
  "kernelspec": {
   "display_name": "Python 3",
   "language": "python",
   "name": "python3"
  },
  "language_info": {
   "name": "python",
   "version": "3.10.9 (tags/v3.10.9:1dd9be6, Dec  6 2022, 20:01:21) [MSC v.1934 64 bit (AMD64)]"
  },
  "orig_nbformat": 4,
  "vscode": {
   "interpreter": {
    "hash": "54aa3ae12b4e8088d92a57fc03fbabda1244a4224e704a0507736e9da1024003"
   }
  }
 },
 "nbformat": 4,
 "nbformat_minor": 2
}
